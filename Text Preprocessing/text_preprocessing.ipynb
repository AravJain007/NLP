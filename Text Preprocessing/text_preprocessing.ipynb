{
 "cells": [
  {
   "cell_type": "markdown",
   "metadata": {},
   "source": [
    "# Text Pre-Processing using various Natural Language Processing Libraries"
   ]
  },
  {
   "cell_type": "code",
   "execution_count": 1,
   "metadata": {},
   "outputs": [],
   "source": [
    "text = \"\"\"He determined to drop his litigation with the monastry, and relinguish his claims to the wood-cuting and \n",
    "fishery rihgts at once. He was the more ready to do this becuase the rights had become much less valuable, and he had \n",
    "indeed the vaguest idea where the wood and river in question were.\"\"\""
   ]
  },
  {
   "cell_type": "markdown",
   "metadata": {},
   "source": [
    "### 1. Text Normalization using NLTK"
   ]
  },
  {
   "cell_type": "code",
   "execution_count": 2,
   "metadata": {},
   "outputs": [
    {
     "name": "stdout",
     "output_type": "stream",
     "text": [
      "{'once', \"you'll\", \"aren't\", 'same', 'after', 's', 'its', 'should', \"you'd\", \"she's\", 'being', 'did', 'them', 'his', 'an', 'shouldn', 'whom', \"didn't\", 'shan', \"you're\", 'up', 'both', 'isn', 'only', 'wouldn', \"mightn't\", 'now', 'has', 'until', 'aren', 'myself', 'i', 'ma', 'are', 'down', 'on', 'with', 'under', 'so', 'because', 'theirs', 'is', 'there', 'don', \"wouldn't\", \"don't\", 'than', 'out', 'all', 'hasn', 'which', 'each', 'but', 'of', 'doing', 'wasn', \"isn't\", 'where', 'own', 'didn', 'at', 'your', 'doesn', 'themselves', 'ours', 'or', 'does', 're', 'and', 'off', 'here', 'into', 'hadn', 'no', 've', 'in', \"shouldn't\", 'he', \"doesn't\", 'their', 'yours', 'they', 'how', 'she', 'from', \"couldn't\", \"should've\", 'can', \"won't\", 'be', \"that'll\", 'some', 'll', 'couldn', 'mustn', 'when', 'over', 'most', 'about', 'were', 'it', 'too', 'a', 'if', 'mightn', 'between', 'other', 'why', 'for', 'these', \"it's\", \"needn't\", 'any', 'against', 'ain', \"mustn't\", 'itself', 'had', 'the', 'we', 'have', 'that', 'below', 'me', 'just', 'her', 'yourselves', 'do', 'am', 'hers', 'won', 'himself', 'will', 'through', \"wasn't\", 'weren', 'before', 'again', 'very', 'who', 'as', 'few', 'further', \"hadn't\", 'this', 'by', 'yourself', 'during', 'y', 'ourselves', 'haven', 'd', 'herself', 'to', 'then', \"hasn't\", 'having', 'such', 'm', 'nor', 'more', \"you've\", 'those', 'was', 'not', \"shan't\", 'him', 't', 'been', 'my', 'what', 'o', \"weren't\", \"haven't\", 'you', 'above', 'needn', 'while', 'our'}\n"
     ]
    }
   ],
   "source": [
    "import nltk\n",
    "from nltk.corpus import stopwords\n",
    "from nltk.tokenize import word_tokenize\n",
    "stopwords = set(stopwords.words(\"english\"))\n",
    "print(stopwords)"
   ]
  },
  {
   "cell_type": "code",
   "execution_count": 3,
   "metadata": {},
   "outputs": [
    {
     "name": "stdout",
     "output_type": "stream",
     "text": [
      "He determined to drop his litigation with the monastry , and relinguish his claims to the wood-cuting and fishery rihgts at once . He was the more ready to do this becuase the rights had become much less valuable , and he had indeed the vaguest idea where the wood and river in question were . "
     ]
    }
   ],
   "source": [
    "word_tokens = word_tokenize(text)\n",
    "for i in word_tokens:\n",
    "    print(i,end = \" \")"
   ]
  },
  {
   "cell_type": "code",
   "execution_count": 4,
   "metadata": {},
   "outputs": [],
   "source": [
    "filtered_sentence = []\n",
    "\n",
    "for w in word_tokens:\n",
    "    if w not in stopwords:\n",
    "        filtered_sentence.append(w)"
   ]
  },
  {
   "cell_type": "markdown",
   "metadata": {},
   "source": [
    "##### This helped us reduce the sentence to almost half of the size"
   ]
  },
  {
   "cell_type": "code",
   "execution_count": 5,
   "metadata": {},
   "outputs": [
    {
     "name": "stdout",
     "output_type": "stream",
     "text": [
      "Orignal :\n",
      " ['He', 'determined', 'to', 'drop', 'his', 'litigation', 'with', 'the', 'monastry', ',', 'and', 'relinguish', 'his', 'claims', 'to', 'the', 'wood-cuting', 'and', 'fishery', 'rihgts', 'at', 'once', '.', 'He', 'was', 'the', 'more', 'ready', 'to', 'do', 'this', 'becuase', 'the', 'rights', 'had', 'become', 'much', 'less', 'valuable', ',', 'and', 'he', 'had', 'indeed', 'the', 'vaguest', 'idea', 'where', 'the', 'wood', 'and', 'river', 'in', 'question', 'were', '.']\n",
      "56\n",
      "Words Removed:\n",
      " ['He', 'determined', 'drop', 'litigation', 'monastry', ',', 'relinguish', 'claims', 'wood-cuting', 'fishery', 'rihgts', '.', 'He', 'ready', 'becuase', 'rights', 'become', 'much', 'less', 'valuable', ',', 'indeed', 'vaguest', 'idea', 'wood', 'river', 'question', '.']\n",
      "28\n"
     ]
    }
   ],
   "source": [
    "print(\"Orignal :\\n\",word_tokens)\n",
    "print(len(word_tokens))\n",
    "print(\"Words Removed:\\n\",filtered_sentence)\n",
    "print(len(filtered_sentence))"
   ]
  },
  {
   "cell_type": "markdown",
   "metadata": {},
   "source": [
    "#### Stemming \n",
    "Stemming is a pre-processing step in Text Mining applications as well as a very common requirement of Natural Language processing functions. In fact it is very important in most of the Information Retrieval systems. The main purpose of stemming is to reduce different grammatical forms / word forms of a word like its noun, adjective, verb, adverb etc. to its root form. We can say that the goal of stemming is to reduce inflectional forms and sometimes derivationally related forms of a word to a common base form.\n",
    "https://www.semanticscholar.org/paper/A-Comparative-Study-of-Stemming-Algorithms-Ms-.-Jivani/1c0c0fa35d4ff8a2f925eb955e48d655494bd167?p2df\n",
    "\n",
    "![Alt text](image-1.png)"
   ]
  },
  {
   "cell_type": "code",
   "execution_count": 6,
   "metadata": {},
   "outputs": [
    {
     "name": "stdout",
     "output_type": "stream",
     "text": [
      "['He', 'determined', 'drop', 'litigation', 'monastry', ',', 'relinguish', 'claims', 'wood-cuting', 'fishery', 'rihgts', '.', 'He', 'ready', 'becuase', 'rights', 'become', 'much', 'less', 'valuable', ',', 'indeed', 'vaguest', 'idea', 'wood', 'river', 'question', '.']\n",
      "['he', 'determin', 'drop', 'litig', 'monastri', ',', 'relinguish', 'claim', 'wood-cut', 'fisheri', 'rihgt', '.', 'he', 'readi', 'becuas', 'right', 'becom', 'much', 'less', 'valuabl', ',', 'inde', 'vaguest', 'idea', 'wood', 'river', 'question', '.']\n"
     ]
    }
   ],
   "source": [
    "from nltk.stem import PorterStemmer\n",
    "Stem_words = []\n",
    "ps = PorterStemmer()\n",
    "for w in filtered_sentence:\n",
    "    root_word = ps.stem(w)\n",
    "    Stem_words.append(root_word)\n",
    "print(filtered_sentence)\n",
    "print(Stem_words)"
   ]
  },
  {
   "cell_type": "markdown",
   "metadata": {},
   "source": [
    "#### Lemitization \n",
    "To simplify it, let's just say that lemmatization in NLP is a linguistic term refers to the act of grouping together words that have the same root or lemma but have different inflections or derivatives of meaning so they can be analyzed as one item. The process of lemmatization seeks to get rid of inflectional suffixes and prefixes for the purpose of bringing out the word’s dictionary form.\n",
    "Source : https://www.engati.com/glossary/lemmatization\n",
    "\n",
    "![Alt text](image-2.png)"
   ]
  },
  {
   "cell_type": "code",
   "execution_count": 7,
   "metadata": {},
   "outputs": [
    {
     "name": "stdout",
     "output_type": "stream",
     "text": [
      "['He', 'determined', 'drop', 'litigation', 'monastry', ',', 'relinguish', 'claims', 'wood-cuting', 'fishery', 'rihgts', '.', 'He', 'ready', 'becuase', 'rights', 'become', 'much', 'less', 'valuable', ',', 'indeed', 'vaguest', 'idea', 'wood', 'river', 'question', '.']\n",
      "['He', 'determine', 'drop', 'litigation', 'monastry', ',', 'relinguish', 'claim', 'wood-cuting', 'fishery', 'rihgts', '.', 'He', 'ready', 'becuase', 'right', 'become', 'much', 'le', 'valuable', ',', 'indeed', 'vague', 'idea', 'wood', 'river', 'question', '.']\n"
     ]
    }
   ],
   "source": [
    "from nltk.stem import WordNetLemmatizer\n",
    "lemma_words = []\n",
    "wnl = WordNetLemmatizer()\n",
    "for w in filtered_sentence:\n",
    "    word1 = wnl.lemmatize(w, pos = \"n\")\n",
    "    word2 = wnl.lemmatize(word1, pos = \"v\")\n",
    "    word3 = wnl.lemmatize(word2, pos = (\"a\"))\n",
    "    lemma_words.append(word3)\n",
    "print(filtered_sentence)\n",
    "print(lemma_words)"
   ]
  },
  {
   "cell_type": "markdown",
   "metadata": {},
   "source": [
    "### 2. Text Normalization using spaCy   "
   ]
  },
  {
   "cell_type": "code",
   "execution_count": 8,
   "metadata": {},
   "outputs": [
    {
     "name": "stdout",
     "output_type": "stream",
     "text": [
      "['he', 'determine', 'to', 'drop', 'his', 'litigation', 'with', 'the', 'monastry', ',', 'and', 'relinguish', 'his', 'claim', 'to', 'the', 'wood', '-', 'cut', 'and', '\\n', 'fishery', 'rihgts', 'at', 'once', '.', 'he', 'be', 'the', 'more', 'ready', 'to', 'do', 'this', 'becuase', 'the', 'right', 'have', 'become', 'much', 'less', 'valuable', ',', 'and', 'he', 'have', '\\n', 'indeed', 'the', 'vague', 'idea', 'where', 'the', 'wood', 'and', 'river', 'in', 'question', 'be', '.']\n",
      "60\n"
     ]
    }
   ],
   "source": [
    "import en_core_web_sm\n",
    "\n",
    "ecws = en_core_web_sm.load()\n",
    "doc = ecws(u\"\"\"He determined to drop his litigation with the monastry, and relinguish his claims to the wood-cuting and \n",
    "fishery rihgts at once. He was the more ready to do this becuase the rights had become much less valuable, and he had \n",
    "indeed the vaguest idea where the wood and river in question were.\"\"\")\n",
    "\n",
    "lemma_word = [] \n",
    "for token in doc:\n",
    "    lemma_word.append(token.lemma_)\n",
    "print(lemma_word)\n",
    "print(len(lemma_word))"
   ]
  }
 ],
 "metadata": {
  "kernelspec": {
   "display_name": "Python 3",
   "language": "python",
   "name": "python3"
  },
  "language_info": {
   "codemirror_mode": {
    "name": "ipython",
    "version": 3
   },
   "file_extension": ".py",
   "mimetype": "text/x-python",
   "name": "python",
   "nbconvert_exporter": "python",
   "pygments_lexer": "ipython3",
   "version": "3.9.11"
  },
  "orig_nbformat": 4
 },
 "nbformat": 4,
 "nbformat_minor": 2
}
